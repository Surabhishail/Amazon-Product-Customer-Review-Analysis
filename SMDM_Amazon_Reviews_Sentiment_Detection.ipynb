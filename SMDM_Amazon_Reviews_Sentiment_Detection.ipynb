{
 "cells": [
  {
   "cell_type": "code",
   "execution_count": 114,
   "metadata": {},
   "outputs": [],
   "source": [
    "#Importing the necessary libraries\n",
    "import pandas as pd\n",
    "import numpy as np\n",
    "import nltk\n",
    "from nltk.tokenize import word_tokenize\n",
    "from nltk.corpus import stopwords\n",
    "from string import punctuation\n",
    "import re\n",
    "from bs4 import BeautifulSoup"
   ]
  },
  {
   "cell_type": "code",
   "execution_count": 115,
   "metadata": {},
   "outputs": [],
   "source": [
    "raw_data = pd.read_csv('Amazon_Unlocked_Mobile.csv')"
   ]
  },
  {
   "cell_type": "code",
   "execution_count": 116,
   "metadata": {},
   "outputs": [
    {
     "data": {
      "text/html": [
       "<div>\n",
       "<style scoped>\n",
       "    .dataframe tbody tr th:only-of-type {\n",
       "        vertical-align: middle;\n",
       "    }\n",
       "\n",
       "    .dataframe tbody tr th {\n",
       "        vertical-align: top;\n",
       "    }\n",
       "\n",
       "    .dataframe thead th {\n",
       "        text-align: right;\n",
       "    }\n",
       "</style>\n",
       "<table border=\"1\" class=\"dataframe\">\n",
       "  <thead>\n",
       "    <tr style=\"text-align: right;\">\n",
       "      <th></th>\n",
       "      <th>Product Name</th>\n",
       "      <th>Brand Name</th>\n",
       "      <th>Price</th>\n",
       "      <th>Rating</th>\n",
       "      <th>Reviews</th>\n",
       "      <th>Review Votes</th>\n",
       "    </tr>\n",
       "  </thead>\n",
       "  <tbody>\n",
       "    <tr>\n",
       "      <th>0</th>\n",
       "      <td>\"CLEAR CLEAN ESN\" Sprint EPIC 4G Galaxy SPH-D7...</td>\n",
       "      <td>Samsung</td>\n",
       "      <td>199.99</td>\n",
       "      <td>5</td>\n",
       "      <td>I feel so LUCKY to have found this used (phone...</td>\n",
       "      <td>1.0</td>\n",
       "    </tr>\n",
       "    <tr>\n",
       "      <th>1</th>\n",
       "      <td>\"CLEAR CLEAN ESN\" Sprint EPIC 4G Galaxy SPH-D7...</td>\n",
       "      <td>Samsung</td>\n",
       "      <td>199.99</td>\n",
       "      <td>4</td>\n",
       "      <td>nice phone, nice up grade from my pantach revu...</td>\n",
       "      <td>0.0</td>\n",
       "    </tr>\n",
       "    <tr>\n",
       "      <th>2</th>\n",
       "      <td>\"CLEAR CLEAN ESN\" Sprint EPIC 4G Galaxy SPH-D7...</td>\n",
       "      <td>Samsung</td>\n",
       "      <td>199.99</td>\n",
       "      <td>5</td>\n",
       "      <td>Very pleased</td>\n",
       "      <td>0.0</td>\n",
       "    </tr>\n",
       "    <tr>\n",
       "      <th>3</th>\n",
       "      <td>\"CLEAR CLEAN ESN\" Sprint EPIC 4G Galaxy SPH-D7...</td>\n",
       "      <td>Samsung</td>\n",
       "      <td>199.99</td>\n",
       "      <td>4</td>\n",
       "      <td>It works good but it goes slow sometimes but i...</td>\n",
       "      <td>0.0</td>\n",
       "    </tr>\n",
       "    <tr>\n",
       "      <th>4</th>\n",
       "      <td>\"CLEAR CLEAN ESN\" Sprint EPIC 4G Galaxy SPH-D7...</td>\n",
       "      <td>Samsung</td>\n",
       "      <td>199.99</td>\n",
       "      <td>4</td>\n",
       "      <td>Great phone to replace my lost phone. The only...</td>\n",
       "      <td>0.0</td>\n",
       "    </tr>\n",
       "  </tbody>\n",
       "</table>\n",
       "</div>"
      ],
      "text/plain": [
       "                                        Product Name Brand Name   Price  \\\n",
       "0  \"CLEAR CLEAN ESN\" Sprint EPIC 4G Galaxy SPH-D7...    Samsung  199.99   \n",
       "1  \"CLEAR CLEAN ESN\" Sprint EPIC 4G Galaxy SPH-D7...    Samsung  199.99   \n",
       "2  \"CLEAR CLEAN ESN\" Sprint EPIC 4G Galaxy SPH-D7...    Samsung  199.99   \n",
       "3  \"CLEAR CLEAN ESN\" Sprint EPIC 4G Galaxy SPH-D7...    Samsung  199.99   \n",
       "4  \"CLEAR CLEAN ESN\" Sprint EPIC 4G Galaxy SPH-D7...    Samsung  199.99   \n",
       "\n",
       "   Rating                                            Reviews  Review Votes  \n",
       "0       5  I feel so LUCKY to have found this used (phone...           1.0  \n",
       "1       4  nice phone, nice up grade from my pantach revu...           0.0  \n",
       "2       5                                       Very pleased           0.0  \n",
       "3       4  It works good but it goes slow sometimes but i...           0.0  \n",
       "4       4  Great phone to replace my lost phone. The only...           0.0  "
      ]
     },
     "execution_count": 116,
     "metadata": {},
     "output_type": "execute_result"
    }
   ],
   "source": [
    "raw_data.head()"
   ]
  },
  {
   "cell_type": "code",
   "execution_count": 117,
   "metadata": {},
   "outputs": [
    {
     "data": {
      "image/png": "[encoded data removed]",
      "text/plain": [
       "<Figure size 432x288 with 1 Axes>"
      ]
     },
     "metadata": {
      "needs_background": "light"
     },
     "output_type": "display_data"
    }
   ],
   "source": [
    "import matplotlib.pyplot as plt\n",
    "ylabel = raw_data[\"Price\"]\n",
    "plt.ylabel(\"Price\")\n",
    "plt.xlabel(\"Rating\")\n",
    "xlabel = raw_data[\"Rating\"]\n",
    "plt.scatter(xlabel, ylabel, alpha=0.1)\n",
    "plt.show()\n"
   ]
  },
  {
   "cell_type": "code",
   "execution_count": 118,
   "metadata": {},
   "outputs": [
    {
     "data": {
      "image/png": "[encoded data removed]",
      "text/plain": [
       "<Figure size 432x288 with 1 Axes>"
      ]
     },
     "metadata": {
      "needs_background": "light"
     },
     "output_type": "display_data"
    }
   ],
   "source": [
    "ylabel2 = raw_data[\"Price\"]\n",
    "plt.ylabel(\"Price\")\n",
    "xlabel2 = raw_data[\"Review Votes\"]\n",
    "plt.xlabel(\"Review Votes\")\n",
    "plt.scatter(xlabel2, ylabel2, alpha=0.1)\n",
    "plt.show()"
   ]
  },
  {
   "cell_type": "code",
   "execution_count": 119,
   "metadata": {},
   "outputs": [],
   "source": [
    "raw_data = raw_data.reset_index(drop=True)"
   ]
  },
  {
   "cell_type": "code",
   "execution_count": 120,
   "metadata": {},
   "outputs": [],
   "source": [
    "product_name = []\n",
    "for item in raw_data[\"Product Name\"]:\n",
    "    if (item in product_name):\n",
    "        continue\n",
    "    else:\n",
    "        product_name.append(item)"
   ]
  },
  {
   "cell_type": "code",
   "execution_count": 121,
   "metadata": {},
   "outputs": [
    {
     "name": "stdout",
     "output_type": "stream",
     "text": [
      "Total Number of phone models 4410\n"
     ]
    }
   ],
   "source": [
    "print(\"Total Number of phone models\",len(product_name))"
   ]
  },
  {
   "cell_type": "code",
   "execution_count": 122,
   "metadata": {},
   "outputs": [],
   "source": [
    "raw_data[\"Brand Name\"]\n",
    "brands = []\n",
    "for item in raw_data[\"Brand Name\"]:\n",
    "    if (item in brands):\n",
    "        continue\n",
    "    else:\n",
    "        brands.append(item)"
   ]
  },
  {
   "cell_type": "code",
   "execution_count": 123,
   "metadata": {},
   "outputs": [
    {
     "name": "stdout",
     "output_type": "stream",
     "text": [
      "Total Number of Brands in the dataset 385\n"
     ]
    }
   ],
   "source": [
    "print(\"Total Number of Brands in the dataset\",len(brands))"
   ]
  },
  {
   "cell_type": "code",
   "execution_count": 124,
   "metadata": {},
   "outputs": [
    {
     "data": {
      "text/html": [
       "<div>\n",
       "<style scoped>\n",
       "    .dataframe tbody tr th:only-of-type {\n",
       "        vertical-align: middle;\n",
       "    }\n",
       "\n",
       "    .dataframe tbody tr th {\n",
       "        vertical-align: top;\n",
       "    }\n",
       "\n",
       "    .dataframe thead tr th {\n",
       "        text-align: left;\n",
       "    }\n",
       "\n",
       "    .dataframe thead tr:last-of-type th {\n",
       "        text-align: right;\n",
       "    }\n",
       "</style>\n",
       "<table border=\"1\" class=\"dataframe\">\n",
       "  <thead>\n",
       "    <tr>\n",
       "      <th></th>\n",
       "      <th colspan=\"2\" halign=\"left\">sum</th>\n",
       "      <th colspan=\"2\" halign=\"left\">mean</th>\n",
       "    </tr>\n",
       "    <tr>\n",
       "      <th></th>\n",
       "      <th>Rating</th>\n",
       "      <th>Review Votes</th>\n",
       "      <th>Rating</th>\n",
       "      <th>Review Votes</th>\n",
       "    </tr>\n",
       "    <tr>\n",
       "      <th>Brand Name</th>\n",
       "      <th></th>\n",
       "      <th></th>\n",
       "      <th></th>\n",
       "      <th></th>\n",
       "    </tr>\n",
       "  </thead>\n",
       "  <tbody>\n",
       "    <tr>\n",
       "      <th>Samsung</th>\n",
       "      <td>260513</td>\n",
       "      <td>97903</td>\n",
       "      <td>3.962356</td>\n",
       "      <td>1.530069</td>\n",
       "    </tr>\n",
       "    <tr>\n",
       "      <th>BLU</th>\n",
       "      <td>239853</td>\n",
       "      <td>58430</td>\n",
       "      <td>3.792262</td>\n",
       "      <td>0.952792</td>\n",
       "    </tr>\n",
       "    <tr>\n",
       "      <th>Apple</th>\n",
       "      <td>228346</td>\n",
       "      <td>112280</td>\n",
       "      <td>3.924415</td>\n",
       "      <td>1.998149</td>\n",
       "    </tr>\n",
       "    <tr>\n",
       "      <th>LG</th>\n",
       "      <td>86114</td>\n",
       "      <td>23070</td>\n",
       "      <td>3.841460</td>\n",
       "      <td>1.061178</td>\n",
       "    </tr>\n",
       "    <tr>\n",
       "      <th>Nokia</th>\n",
       "      <td>64187</td>\n",
       "      <td>25964</td>\n",
       "      <td>3.819291</td>\n",
       "      <td>1.600148</td>\n",
       "    </tr>\n",
       "    <tr>\n",
       "      <th>BlackBerry</th>\n",
       "      <td>63126</td>\n",
       "      <td>21114</td>\n",
       "      <td>3.741465</td>\n",
       "      <td>1.279326</td>\n",
       "    </tr>\n",
       "    <tr>\n",
       "      <th>Motorola</th>\n",
       "      <td>51157</td>\n",
       "      <td>23107</td>\n",
       "      <td>3.812849</td>\n",
       "      <td>1.777051</td>\n",
       "    </tr>\n",
       "    <tr>\n",
       "      <th>HTC</th>\n",
       "      <td>44094</td>\n",
       "      <td>12803</td>\n",
       "      <td>3.465420</td>\n",
       "      <td>1.035506</td>\n",
       "    </tr>\n",
       "    <tr>\n",
       "      <th>CNPGD</th>\n",
       "      <td>39176</td>\n",
       "      <td>20151</td>\n",
       "      <td>3.106002</td>\n",
       "      <td>1.638026</td>\n",
       "    </tr>\n",
       "    <tr>\n",
       "      <th>OtterBox</th>\n",
       "      <td>35022</td>\n",
       "      <td>2276</td>\n",
       "      <td>4.383778</td>\n",
       "      <td>0.288759</td>\n",
       "    </tr>\n",
       "  </tbody>\n",
       "</table>\n",
       "</div>"
      ],
      "text/plain": [
       "               sum                   mean             \n",
       "            Rating Review Votes    Rating Review Votes\n",
       "Brand Name                                            \n",
       "Samsung     260513        97903  3.962356     1.530069\n",
       "BLU         239853        58430  3.792262     0.952792\n",
       "Apple       228346       112280  3.924415     1.998149\n",
       "LG           86114        23070  3.841460     1.061178\n",
       "Nokia        64187        25964  3.819291     1.600148\n",
       "BlackBerry   63126        21114  3.741465     1.279326\n",
       "Motorola     51157        23107  3.812849     1.777051\n",
       "HTC          44094        12803  3.465420     1.035506\n",
       "CNPGD        39176        20151  3.106002     1.638026\n",
       "OtterBox     35022         2276  4.383778     0.288759"
      ]
     },
     "execution_count": 124,
     "metadata": {},
     "output_type": "execute_result"
    }
   ],
   "source": [
    "# Top 10 Brands in our dataset\n",
    "info = pd.pivot_table(raw_data,index=['Brand Name'],values=['Rating', 'Review Votes'],\n",
    "               columns=[],aggfunc=[np.sum, np.mean],fill_value=0)\n",
    "info = info.sort_values(by=('sum', 'Rating'), ascending = False)\n",
    "\n",
    "info.head(10)"
   ]
  },
  {
   "cell_type": "code",
   "execution_count": 125,
   "metadata": {},
   "outputs": [],
   "source": [
    "all_reviews = raw_data['Reviews']\n",
    "all_sent_values = []\n",
    "all_sentiments = []"
   ]
  },
  {
   "cell_type": "code",
   "execution_count": 126,
   "metadata": {},
   "outputs": [],
   "source": [
    "analyser = SentimentIntensityAnalyzer()\n",
    "result = analyser.polarity_scores(sample)\n",
    "score = result['compound']"
   ]
  },
  {
   "cell_type": "code",
   "execution_count": 127,
   "metadata": {},
   "outputs": [],
   "source": [
    "from nltk.sentiment.vader import SentimentIntensityAnalyzer\n",
    "def sentiment_value(paragraph):\n",
    "    analyser = SentimentIntensityAnalyzer()\n",
    "    result = analyser.polarity_scores(paragraph)\n",
    "    score = result['compound']\n",
    "    return round(score,1)"
   ]
  },
  {
   "cell_type": "code",
   "execution_count": 128,
   "metadata": {},
   "outputs": [
    {
     "name": "stdout",
     "output_type": "stream",
     "text": [
      "Shipped fast, packaged with ear buds, and power cord plus wall adapter. Looks beautiful, no nicks or scrape and functions great.\n",
      "Sentiment: \n",
      "0.8\n"
     ]
    }
   ],
   "source": [
    "sample = raw_data['Reviews'][8001]\n",
    "print(sample)\n",
    "print('Sentiment: ')\n",
    "print(sentiment_value(sample))"
   ]
  },
  {
   "cell_type": "code",
   "execution_count": 129,
   "metadata": {},
   "outputs": [],
   "source": [
    "for i in range(0,4000):\n",
    "    all_sent_values.append((sentiment_value(all_reviews[i])))"
   ]
  },
  {
   "cell_type": "code",
   "execution_count": 130,
   "metadata": {},
   "outputs": [],
   "source": [
    "#Sentiment Analysis on first 4,000 rows of the data set for simplicity of analysis\n",
    "temp_data = raw_data[0:4000]"
   ]
  },
  {
   "cell_type": "code",
   "execution_count": 131,
   "metadata": {},
   "outputs": [
    {
     "data": {
      "text/plain": [
       "(4000, 6)"
      ]
     },
     "execution_count": 131,
     "metadata": {},
     "output_type": "execute_result"
    }
   ],
   "source": [
    "temp_data.shape"
   ]
  },
  {
   "cell_type": "code",
   "execution_count": 133,
   "metadata": {},
   "outputs": [],
   "source": [
    "SENTIMENT_VALUE = []\n",
    "SENTIMENT = []\n",
    "for i in range(0,4000):\n",
    "    sent = all_sent_values[i]\n",
    "    if (sent<=1 and sent>=0.5):\n",
    "        SENTIMENT.append('V.Positive')\n",
    "        SENTIMENT_VALUE.append(5)\n",
    "    elif (sent<0.5 and sent>0):\n",
    "        SENTIMENT.append('Positive')\n",
    "        SENTIMENT_VALUE.append(4)\n",
    "    elif (sent==0):\n",
    "        SENTIMENT.append('Neutral')\n",
    "        SENTIMENT_VALUE.append(3)\n",
    "    elif (sent<0 and sent>=-0.5):\n",
    "        SENTIMENT.append('Negative')\n",
    "        SENTIMENT_VALUE.append(2)\n",
    "    else:\n",
    "        SENTIMENT.append('V.Negative')\n",
    "        SENTIMENT_VALUE.append(1)\n",
    "        "
   ]
  },
  {
   "cell_type": "code",
   "execution_count": 134,
   "metadata": {},
   "outputs": [
    {
     "name": "stderr",
     "output_type": "stream",
     "text": [
      "C:\\Users\\harsh\\AppData\\Local\\Continuum\\anaconda3\\lib\\site-packages\\ipykernel_launcher.py:1: SettingWithCopyWarning: \n",
      "A value is trying to be set on a copy of a slice from a DataFrame.\n",
      "Try using .loc[row_indexer,col_indexer] = value instead\n",
      "\n",
      "See the caveats in the documentation: http://pandas.pydata.org/pandas-docs/stable/indexing.html#indexing-view-versus-copy\n",
      "  \"\"\"Entry point for launching an IPython kernel.\n",
      "C:\\Users\\harsh\\AppData\\Local\\Continuum\\anaconda3\\lib\\site-packages\\ipykernel_launcher.py:2: SettingWithCopyWarning: \n",
      "A value is trying to be set on a copy of a slice from a DataFrame.\n",
      "Try using .loc[row_indexer,col_indexer] = value instead\n",
      "\n",
      "See the caveats in the documentation: http://pandas.pydata.org/pandas-docs/stable/indexing.html#indexing-view-versus-copy\n",
      "  \n"
     ]
    }
   ],
   "source": [
    "temp_data['SENTIMENT_VALUE'] = SENTIMENT_VALUE\n",
    "temp_data['SENTIMENT'] = SENTIMENT"
   ]
  },
  {
   "cell_type": "code",
   "execution_count": 135,
   "metadata": {},
   "outputs": [
    {
     "data": {
      "text/html": [
       "<div>\n",
       "<style scoped>\n",
       "    .dataframe tbody tr th:only-of-type {\n",
       "        vertical-align: middle;\n",
       "    }\n",
       "\n",
       "    .dataframe tbody tr th {\n",
       "        vertical-align: top;\n",
       "    }\n",
       "\n",
       "    .dataframe thead th {\n",
       "        text-align: right;\n",
       "    }\n",
       "</style>\n",
       "<table border=\"1\" class=\"dataframe\">\n",
       "  <thead>\n",
       "    <tr style=\"text-align: right;\">\n",
       "      <th></th>\n",
       "      <th>Product Name</th>\n",
       "      <th>Brand Name</th>\n",
       "      <th>Price</th>\n",
       "      <th>Rating</th>\n",
       "      <th>Reviews</th>\n",
       "      <th>Review Votes</th>\n",
       "      <th>SENTIMENT_VALUE</th>\n",
       "      <th>SENTIMENT</th>\n",
       "    </tr>\n",
       "  </thead>\n",
       "  <tbody>\n",
       "    <tr>\n",
       "      <th>0</th>\n",
       "      <td>\"CLEAR CLEAN ESN\" Sprint EPIC 4G Galaxy SPH-D7...</td>\n",
       "      <td>Samsung</td>\n",
       "      <td>199.99</td>\n",
       "      <td>5</td>\n",
       "      <td>I feel so LUCKY to have found this used (phone...</td>\n",
       "      <td>1.0</td>\n",
       "      <td>5</td>\n",
       "      <td>V.Positive</td>\n",
       "    </tr>\n",
       "    <tr>\n",
       "      <th>1</th>\n",
       "      <td>\"CLEAR CLEAN ESN\" Sprint EPIC 4G Galaxy SPH-D7...</td>\n",
       "      <td>Samsung</td>\n",
       "      <td>199.99</td>\n",
       "      <td>4</td>\n",
       "      <td>nice phone, nice up grade from my pantach revu...</td>\n",
       "      <td>0.0</td>\n",
       "      <td>5</td>\n",
       "      <td>V.Positive</td>\n",
       "    </tr>\n",
       "    <tr>\n",
       "      <th>2</th>\n",
       "      <td>\"CLEAR CLEAN ESN\" Sprint EPIC 4G Galaxy SPH-D7...</td>\n",
       "      <td>Samsung</td>\n",
       "      <td>199.99</td>\n",
       "      <td>5</td>\n",
       "      <td>Very pleased</td>\n",
       "      <td>0.0</td>\n",
       "      <td>5</td>\n",
       "      <td>V.Positive</td>\n",
       "    </tr>\n",
       "    <tr>\n",
       "      <th>3</th>\n",
       "      <td>\"CLEAR CLEAN ESN\" Sprint EPIC 4G Galaxy SPH-D7...</td>\n",
       "      <td>Samsung</td>\n",
       "      <td>199.99</td>\n",
       "      <td>4</td>\n",
       "      <td>It works good but it goes slow sometimes but i...</td>\n",
       "      <td>0.0</td>\n",
       "      <td>5</td>\n",
       "      <td>V.Positive</td>\n",
       "    </tr>\n",
       "    <tr>\n",
       "      <th>4</th>\n",
       "      <td>\"CLEAR CLEAN ESN\" Sprint EPIC 4G Galaxy SPH-D7...</td>\n",
       "      <td>Samsung</td>\n",
       "      <td>199.99</td>\n",
       "      <td>4</td>\n",
       "      <td>Great phone to replace my lost phone. The only...</td>\n",
       "      <td>0.0</td>\n",
       "      <td>4</td>\n",
       "      <td>Positive</td>\n",
       "    </tr>\n",
       "  </tbody>\n",
       "</table>\n",
       "</div>"
      ],
      "text/plain": [
       "                                        Product Name Brand Name   Price  \\\n",
       "0  \"CLEAR CLEAN ESN\" Sprint EPIC 4G Galaxy SPH-D7...    Samsung  199.99   \n",
       "1  \"CLEAR CLEAN ESN\" Sprint EPIC 4G Galaxy SPH-D7...    Samsung  199.99   \n",
       "2  \"CLEAR CLEAN ESN\" Sprint EPIC 4G Galaxy SPH-D7...    Samsung  199.99   \n",
       "3  \"CLEAR CLEAN ESN\" Sprint EPIC 4G Galaxy SPH-D7...    Samsung  199.99   \n",
       "4  \"CLEAR CLEAN ESN\" Sprint EPIC 4G Galaxy SPH-D7...    Samsung  199.99   \n",
       "\n",
       "   Rating                                            Reviews  Review Votes  \\\n",
       "0       5  I feel so LUCKY to have found this used (phone...           1.0   \n",
       "1       4  nice phone, nice up grade from my pantach revu...           0.0   \n",
       "2       5                                       Very pleased           0.0   \n",
       "3       4  It works good but it goes slow sometimes but i...           0.0   \n",
       "4       4  Great phone to replace my lost phone. The only...           0.0   \n",
       "\n",
       "   SENTIMENT_VALUE   SENTIMENT  \n",
       "0                5  V.Positive  \n",
       "1                5  V.Positive  \n",
       "2                5  V.Positive  \n",
       "3                5  V.Positive  \n",
       "4                4    Positive  "
      ]
     },
     "execution_count": 135,
     "metadata": {},
     "output_type": "execute_result"
    }
   ],
   "source": [
    "temp_data.head()"
   ]
  },
  {
   "cell_type": "code",
   "execution_count": 136,
   "metadata": {},
   "outputs": [],
   "source": [
    "#find accuracy\n",
    "counter = 0\n",
    "for i in range(0,4000):\n",
    "    if (abs(temp_data['Rating'][i]-temp_data['SENTIMENT_VALUE'][i])>1):\n",
    "        counter += 1"
   ]
  },
  {
   "cell_type": "code",
   "execution_count": 137,
   "metadata": {},
   "outputs": [],
   "source": [
    "accuracy = (temp_data.shape[0]-counter)/temp_data.shape[0]"
   ]
  },
  {
   "cell_type": "code",
   "execution_count": 138,
   "metadata": {},
   "outputs": [
    {
     "name": "stdout",
     "output_type": "stream",
     "text": [
      "The Accuracy is  0.75375\n"
     ]
    }
   ],
   "source": [
    "print(\"The Accuracy is \",accuracy)"
   ]
  },
  {
   "cell_type": "code",
   "execution_count": 139,
   "metadata": {},
   "outputs": [
    {
     "data": {
      "image/png": "[encoded data removed]",
      "text/plain": [
       "<Figure size 648x648 with 1 Axes>"
      ]
     },
     "metadata": {
      "needs_background": "light"
     },
     "output_type": "display_data"
    }
   ],
   "source": [
    "xaxis = []\n",
    "for i in range(0,4000):\n",
    "    xaxis.append(i)\n",
    "\n",
    "ylabel_new_1 = all_sent_values[:4000]\n",
    "\n",
    "xlabel = xaxis\n",
    "plt.figure(figsize=(9,9))\n",
    "plt.xlabel('ReviewIndex')\n",
    "plt.ylabel('SentimentValue(-1 to 1)')\n",
    "plt.plot(xlabel, ylabel_new_1, 'ro',  alpha=0.04)\n",
    "\n",
    "plt.title('Scatter Intensity Plot of Sentiments')\n",
    "plt.show()"
   ]
  },
  {
   "cell_type": "code",
   "execution_count": 140,
   "metadata": {},
   "outputs": [
    {
     "data": {
      "text/html": [
       "<div>\n",
       "<style scoped>\n",
       "    .dataframe tbody tr th:only-of-type {\n",
       "        vertical-align: middle;\n",
       "    }\n",
       "\n",
       "    .dataframe tbody tr th {\n",
       "        vertical-align: top;\n",
       "    }\n",
       "\n",
       "    .dataframe thead tr th {\n",
       "        text-align: left;\n",
       "    }\n",
       "\n",
       "    .dataframe thead tr:last-of-type th {\n",
       "        text-align: right;\n",
       "    }\n",
       "</style>\n",
       "<table border=\"1\" class=\"dataframe\">\n",
       "  <thead>\n",
       "    <tr>\n",
       "      <th></th>\n",
       "      <th colspan=\"3\" halign=\"left\">sum</th>\n",
       "      <th colspan=\"3\" halign=\"left\">mean</th>\n",
       "    </tr>\n",
       "    <tr>\n",
       "      <th></th>\n",
       "      <th>Rating</th>\n",
       "      <th>Review Votes</th>\n",
       "      <th>SENTIMENT_VALUE</th>\n",
       "      <th>Rating</th>\n",
       "      <th>Review Votes</th>\n",
       "      <th>SENTIMENT_VALUE</th>\n",
       "    </tr>\n",
       "    <tr>\n",
       "      <th>Product Name</th>\n",
       "      <th></th>\n",
       "      <th></th>\n",
       "      <th></th>\n",
       "      <th></th>\n",
       "      <th></th>\n",
       "      <th></th>\n",
       "    </tr>\n",
       "  </thead>\n",
       "  <tbody>\n",
       "    <tr>\n",
       "      <th>ALCATEL OneTouch Idol 3 Global Unlocked 4G LTE Smartphone, 5.5 HD IPS Display, 16GB (GSM - US Warranty)</th>\n",
       "      <td>3683</td>\n",
       "      <td>2353</td>\n",
       "      <td>3951</td>\n",
       "      <td>4.060639</td>\n",
       "      <td>2.652762</td>\n",
       "      <td>4.356119</td>\n",
       "    </tr>\n",
       "    <tr>\n",
       "      <th>5.5-Inch Unlocked Lenovo A850 3G Smartphone-(960x540) Quad Core 4GB MT6582m 1331MHz Android 4.2 Dual Camera +Dual SIM -Black (Rooted + Google Play)</th>\n",
       "      <td>2140</td>\n",
       "      <td>543</td>\n",
       "      <td>2064</td>\n",
       "      <td>4.037736</td>\n",
       "      <td>1.083832</td>\n",
       "      <td>3.894340</td>\n",
       "    </tr>\n",
       "    <tr>\n",
       "      <th>Apple - Iphone 5c A1532 Verizon 16 GB Cell Phone - Green</th>\n",
       "      <td>1670</td>\n",
       "      <td>580</td>\n",
       "      <td>1789</td>\n",
       "      <td>3.786848</td>\n",
       "      <td>1.387560</td>\n",
       "      <td>4.056689</td>\n",
       "    </tr>\n",
       "    <tr>\n",
       "      <th>Apple - Iphone 5c A1532 Verizon 16 GB Cell Phone - White</th>\n",
       "      <td>1188</td>\n",
       "      <td>412</td>\n",
       "      <td>1255</td>\n",
       "      <td>3.832258</td>\n",
       "      <td>1.364238</td>\n",
       "      <td>4.048387</td>\n",
       "    </tr>\n",
       "    <tr>\n",
       "      <th>ALCATEL OneTouch Idol 3 Global Unlocked 4G LTE Smartphone, 4.7 HD IPS Display, 16GB (GSM - US Warranty)</th>\n",
       "      <td>1019</td>\n",
       "      <td>497</td>\n",
       "      <td>1044</td>\n",
       "      <td>4.193416</td>\n",
       "      <td>2.088235</td>\n",
       "      <td>4.296296</td>\n",
       "    </tr>\n",
       "    <tr>\n",
       "      <th>Apple A1533 Unlocked iPhone 5S Smart Phone, 16 GB (White)</th>\n",
       "      <td>564</td>\n",
       "      <td>180</td>\n",
       "      <td>570</td>\n",
       "      <td>4.028571</td>\n",
       "      <td>1.285714</td>\n",
       "      <td>4.071429</td>\n",
       "    </tr>\n",
       "    <tr>\n",
       "      <th>4 Inch Touch Screen Cell Phone Unlocked, Android Unlocked Gsm Smartphones Dual Camera Dual Sim Dual Standby No Contract (Blue)</th>\n",
       "      <td>512</td>\n",
       "      <td>237</td>\n",
       "      <td>558</td>\n",
       "      <td>3.240506</td>\n",
       "      <td>1.755556</td>\n",
       "      <td>3.531646</td>\n",
       "    </tr>\n",
       "    <tr>\n",
       "      <th>\"Nokia Asha 302 Unlocked GSM Phone with 3.2MP Camera, Video, QWERTY Keyboard, Wi-Fi, Bluetooth, FM Radio, SNS Integration, MP3/MP4 Player and microSD Slot - White International Version/Warranty</th>\n",
       "      <td>307</td>\n",
       "      <td>100</td>\n",
       "      <td>294</td>\n",
       "      <td>4.205479</td>\n",
       "      <td>1.369863</td>\n",
       "      <td>4.027397</td>\n",
       "    </tr>\n",
       "    <tr>\n",
       "      <th>Alcatel One Touch Fierce 2, 4GB, 5\" Screen, Unlocked</th>\n",
       "      <td>291</td>\n",
       "      <td>92</td>\n",
       "      <td>310</td>\n",
       "      <td>3.637500</td>\n",
       "      <td>1.164557</td>\n",
       "      <td>3.875000</td>\n",
       "    </tr>\n",
       "    <tr>\n",
       "      <th>[XMAS DEAL] Jethro [SC118] Simple Unlocked Quad-band GSM Senior &amp; Kids Cell Phone, SOS Button, Easy to Use, Light Weight, Large Keyboard [New Firmware Edition]</th>\n",
       "      <td>269</td>\n",
       "      <td>178</td>\n",
       "      <td>270</td>\n",
       "      <td>3.586667</td>\n",
       "      <td>2.373333</td>\n",
       "      <td>3.600000</td>\n",
       "    </tr>\n",
       "  </tbody>\n",
       "</table>\n",
       "</div>"
      ],
      "text/plain": [
       "                                                      sum               \\\n",
       "                                                   Rating Review Votes   \n",
       "Product Name                                                             \n",
       "ALCATEL OneTouch Idol 3 Global Unlocked 4G LTE ...   3683         2353   \n",
       "5.5-Inch Unlocked Lenovo A850 3G Smartphone-(96...   2140          543   \n",
       "Apple - Iphone 5c A1532 Verizon 16 GB Cell Phon...   1670          580   \n",
       "Apple - Iphone 5c A1532 Verizon 16 GB Cell Phon...   1188          412   \n",
       "ALCATEL OneTouch Idol 3 Global Unlocked 4G LTE ...   1019          497   \n",
       "Apple A1533 Unlocked iPhone 5S Smart Phone, 16 ...    564          180   \n",
       "4 Inch Touch Screen Cell Phone Unlocked, Androi...    512          237   \n",
       "\"Nokia Asha 302 Unlocked GSM Phone with 3.2MP C...    307          100   \n",
       "Alcatel One Touch Fierce 2, 4GB, 5\" Screen, Unl...    291           92   \n",
       "[XMAS DEAL] Jethro [SC118] Simple Unlocked Quad...    269          178   \n",
       "\n",
       "                                                                        mean  \\\n",
       "                                                   SENTIMENT_VALUE    Rating   \n",
       "Product Name                                                                   \n",
       "ALCATEL OneTouch Idol 3 Global Unlocked 4G LTE ...            3951  4.060639   \n",
       "5.5-Inch Unlocked Lenovo A850 3G Smartphone-(96...            2064  4.037736   \n",
       "Apple - Iphone 5c A1532 Verizon 16 GB Cell Phon...            1789  3.786848   \n",
       "Apple - Iphone 5c A1532 Verizon 16 GB Cell Phon...            1255  3.832258   \n",
       "ALCATEL OneTouch Idol 3 Global Unlocked 4G LTE ...            1044  4.193416   \n",
       "Apple A1533 Unlocked iPhone 5S Smart Phone, 16 ...             570  4.028571   \n",
       "4 Inch Touch Screen Cell Phone Unlocked, Androi...             558  3.240506   \n",
       "\"Nokia Asha 302 Unlocked GSM Phone with 3.2MP C...             294  4.205479   \n",
       "Alcatel One Touch Fierce 2, 4GB, 5\" Screen, Unl...             310  3.637500   \n",
       "[XMAS DEAL] Jethro [SC118] Simple Unlocked Quad...             270  3.586667   \n",
       "\n",
       "                                                                 \\\n",
       "                                                   Review Votes   \n",
       "Product Name                                                      \n",
       "ALCATEL OneTouch Idol 3 Global Unlocked 4G LTE ...     2.652762   \n",
       "5.5-Inch Unlocked Lenovo A850 3G Smartphone-(96...     1.083832   \n",
       "Apple - Iphone 5c A1532 Verizon 16 GB Cell Phon...     1.387560   \n",
       "Apple - Iphone 5c A1532 Verizon 16 GB Cell Phon...     1.364238   \n",
       "ALCATEL OneTouch Idol 3 Global Unlocked 4G LTE ...     2.088235   \n",
       "Apple A1533 Unlocked iPhone 5S Smart Phone, 16 ...     1.285714   \n",
       "4 Inch Touch Screen Cell Phone Unlocked, Androi...     1.755556   \n",
       "\"Nokia Asha 302 Unlocked GSM Phone with 3.2MP C...     1.369863   \n",
       "Alcatel One Touch Fierce 2, 4GB, 5\" Screen, Unl...     1.164557   \n",
       "[XMAS DEAL] Jethro [SC118] Simple Unlocked Quad...     2.373333   \n",
       "\n",
       "                                                                    \n",
       "                                                   SENTIMENT_VALUE  \n",
       "Product Name                                                        \n",
       "ALCATEL OneTouch Idol 3 Global Unlocked 4G LTE ...        4.356119  \n",
       "5.5-Inch Unlocked Lenovo A850 3G Smartphone-(96...        3.894340  \n",
       "Apple - Iphone 5c A1532 Verizon 16 GB Cell Phon...        4.056689  \n",
       "Apple - Iphone 5c A1532 Verizon 16 GB Cell Phon...        4.048387  \n",
       "ALCATEL OneTouch Idol 3 Global Unlocked 4G LTE ...        4.296296  \n",
       "Apple A1533 Unlocked iPhone 5S Smart Phone, 16 ...        4.071429  \n",
       "4 Inch Touch Screen Cell Phone Unlocked, Androi...        3.531646  \n",
       "\"Nokia Asha 302 Unlocked GSM Phone with 3.2MP C...        4.027397  \n",
       "Alcatel One Touch Fierce 2, 4GB, 5\" Screen, Unl...        3.875000  \n",
       "[XMAS DEAL] Jethro [SC118] Simple Unlocked Quad...        3.600000  "
      ]
     },
     "execution_count": 140,
     "metadata": {},
     "output_type": "execute_result"
    }
   ],
   "source": [
    "testing = pd.pivot_table(temp_data,index=['Product Name'],values=['Rating', 'Review Votes','SENTIMENT_VALUE'],\n",
    "               columns=[],aggfunc=[np.sum, np.mean],fill_value=0)\n",
    "testing = testing.sort_values(by=('sum', 'Rating'), ascending = False)\n",
    "testing.head(10)"
   ]
  },
  {
   "cell_type": "code",
   "execution_count": 141,
   "metadata": {},
   "outputs": [],
   "source": [
    "#Sentiment Analysis on top 5 brands\n",
    "samsung = []\n",
    "blu = []\n",
    "apple = []\n",
    "lg = []\n",
    "nokia = []\n",
    "\n",
    "\n",
    "\n",
    "for i in range(0,4000):\n",
    "    score = all_sent_values[i]\n",
    "    brand = temp_data['Brand Name'][i]\n",
    "    if (brand == 'Samsung'):\n",
    "        samsung.append(score)\n",
    "    elif (brand == 'BLU'):\n",
    "        blu.append(score)\n",
    "    elif (brand == 'Apple'):\n",
    "        apple.append(score)\n",
    "    elif (brand == 'LG'):\n",
    "        lg.append(score)\n",
    "    elif (brand == 'Nokia'):\n",
    "        nokia.append(score)\n",
    "    else:\n",
    "        continue"
   ]
  },
  {
   "cell_type": "code",
   "execution_count": 142,
   "metadata": {},
   "outputs": [],
   "source": [
    "list_of_brands = [samsung, blu, apple,lg,nokia]\n",
    "name_of_brands = ['Samsung', 'BLU', 'Apple', 'LG', 'Nokia']"
   ]
  },
  {
   "cell_type": "code",
   "execution_count": 62,
   "metadata": {},
   "outputs": [
    {
     "name": "stdout",
     "output_type": "stream",
     "text": [
      "<class 'pandas.core.frame.DataFrame'>\n",
      "RangeIndex: 413840 entries, 0 to 413839\n",
      "Data columns (total 6 columns):\n",
      "Product Name    413840 non-null object\n",
      "Brand Name      348669 non-null object\n",
      "Price           407907 non-null float64\n",
      "Rating          413840 non-null int64\n",
      "Reviews         413778 non-null object\n",
      "Review Votes    401544 non-null float64\n",
      "dtypes: float64(2), int64(1), object(3)\n",
      "memory usage: 18.9+ MB\n"
     ]
    }
   ],
   "source": [
    "df = raw_data\n",
    "df.info()"
   ]
  },
  {
   "cell_type": "code",
   "execution_count": 63,
   "metadata": {},
   "outputs": [
    {
     "data": {
      "text/html": [
       "<div>\n",
       "<style scoped>\n",
       "    .dataframe tbody tr th:only-of-type {\n",
       "        vertical-align: middle;\n",
       "    }\n",
       "\n",
       "    .dataframe tbody tr th {\n",
       "        vertical-align: top;\n",
       "    }\n",
       "\n",
       "    .dataframe thead th {\n",
       "        text-align: right;\n",
       "    }\n",
       "</style>\n",
       "<table border=\"1\" class=\"dataframe\">\n",
       "  <thead>\n",
       "    <tr style=\"text-align: right;\">\n",
       "      <th></th>\n",
       "      <th>Price</th>\n",
       "      <th>Rating</th>\n",
       "      <th>Review Votes</th>\n",
       "    </tr>\n",
       "  </thead>\n",
       "  <tbody>\n",
       "    <tr>\n",
       "      <th>count</th>\n",
       "      <td>407907.000000</td>\n",
       "      <td>413840.000000</td>\n",
       "      <td>401544.000000</td>\n",
       "    </tr>\n",
       "    <tr>\n",
       "      <th>mean</th>\n",
       "      <td>226.867155</td>\n",
       "      <td>3.819578</td>\n",
       "      <td>1.507237</td>\n",
       "    </tr>\n",
       "    <tr>\n",
       "      <th>std</th>\n",
       "      <td>273.006259</td>\n",
       "      <td>1.548216</td>\n",
       "      <td>9.163853</td>\n",
       "    </tr>\n",
       "    <tr>\n",
       "      <th>min</th>\n",
       "      <td>1.730000</td>\n",
       "      <td>1.000000</td>\n",
       "      <td>0.000000</td>\n",
       "    </tr>\n",
       "    <tr>\n",
       "      <th>25%</th>\n",
       "      <td>79.990000</td>\n",
       "      <td>3.000000</td>\n",
       "      <td>0.000000</td>\n",
       "    </tr>\n",
       "    <tr>\n",
       "      <th>50%</th>\n",
       "      <td>144.710000</td>\n",
       "      <td>5.000000</td>\n",
       "      <td>0.000000</td>\n",
       "    </tr>\n",
       "    <tr>\n",
       "      <th>75%</th>\n",
       "      <td>269.990000</td>\n",
       "      <td>5.000000</td>\n",
       "      <td>1.000000</td>\n",
       "    </tr>\n",
       "    <tr>\n",
       "      <th>max</th>\n",
       "      <td>2598.000000</td>\n",
       "      <td>5.000000</td>\n",
       "      <td>645.000000</td>\n",
       "    </tr>\n",
       "  </tbody>\n",
       "</table>\n",
       "</div>"
      ],
      "text/plain": [
       "               Price         Rating   Review Votes\n",
       "count  407907.000000  413840.000000  401544.000000\n",
       "mean      226.867155       3.819578       1.507237\n",
       "std       273.006259       1.548216       9.163853\n",
       "min         1.730000       1.000000       0.000000\n",
       "25%        79.990000       3.000000       0.000000\n",
       "50%       144.710000       5.000000       0.000000\n",
       "75%       269.990000       5.000000       1.000000\n",
       "max      2598.000000       5.000000     645.000000"
      ]
     },
     "execution_count": 63,
     "metadata": {},
     "output_type": "execute_result"
    }
   ],
   "source": [
    "#Descriptive Statistics of the dataset\n",
    "df.describe()"
   ]
  },
  {
   "cell_type": "code",
   "execution_count": 64,
   "metadata": {},
   "outputs": [
    {
     "data": {
      "text/html": [
       "<div>\n",
       "<style scoped>\n",
       "    .dataframe tbody tr th:only-of-type {\n",
       "        vertical-align: middle;\n",
       "    }\n",
       "\n",
       "    .dataframe tbody tr th {\n",
       "        vertical-align: top;\n",
       "    }\n",
       "\n",
       "    .dataframe thead th {\n",
       "        text-align: right;\n",
       "    }\n",
       "</style>\n",
       "<table border=\"1\" class=\"dataframe\">\n",
       "  <thead>\n",
       "    <tr style=\"text-align: right;\">\n",
       "      <th></th>\n",
       "      <th>Reviews</th>\n",
       "      <th>Rating</th>\n",
       "    </tr>\n",
       "  </thead>\n",
       "  <tbody>\n",
       "    <tr>\n",
       "      <th>0</th>\n",
       "      <td>I feel so LUCKY to have found this used (phone...</td>\n",
       "      <td>5</td>\n",
       "    </tr>\n",
       "    <tr>\n",
       "      <th>1</th>\n",
       "      <td>nice phone, nice up grade from my pantach revu...</td>\n",
       "      <td>4</td>\n",
       "    </tr>\n",
       "    <tr>\n",
       "      <th>2</th>\n",
       "      <td>Very pleased</td>\n",
       "      <td>5</td>\n",
       "    </tr>\n",
       "    <tr>\n",
       "      <th>3</th>\n",
       "      <td>It works good but it goes slow sometimes but i...</td>\n",
       "      <td>4</td>\n",
       "    </tr>\n",
       "    <tr>\n",
       "      <th>4</th>\n",
       "      <td>Great phone to replace my lost phone. The only...</td>\n",
       "      <td>4</td>\n",
       "    </tr>\n",
       "  </tbody>\n",
       "</table>\n",
       "</div>"
      ],
      "text/plain": [
       "                                             Reviews  Rating\n",
       "0  I feel so LUCKY to have found this used (phone...       5\n",
       "1  nice phone, nice up grade from my pantach revu...       4\n",
       "2                                       Very pleased       5\n",
       "3  It works good but it goes slow sometimes but i...       4\n",
       "4  Great phone to replace my lost phone. The only...       4"
      ]
     },
     "execution_count": 64,
     "metadata": {},
     "output_type": "execute_result"
    }
   ],
   "source": [
    "#Selecting only the columns Reviews and Ratings for Consideration of Sentiment Analysis\n",
    "df=df[['Reviews','Rating']]\n",
    "df.head()"
   ]
  },
  {
   "cell_type": "code",
   "execution_count": 65,
   "metadata": {},
   "outputs": [
    {
     "name": "stdout",
     "output_type": "stream",
     "text": [
      "<class 'pandas.core.frame.DataFrame'>\n",
      "RangeIndex: 413840 entries, 0 to 413839\n",
      "Data columns (total 2 columns):\n",
      "Reviews    413778 non-null object\n",
      "Rating     413840 non-null int64\n",
      "dtypes: int64(1), object(1)\n",
      "memory usage: 6.3+ MB\n"
     ]
    }
   ],
   "source": [
    "df.info()"
   ]
  },
  {
   "cell_type": "code",
   "execution_count": 66,
   "metadata": {},
   "outputs": [
    {
     "name": "stdout",
     "output_type": "stream",
     "text": [
      "<class 'pandas.core.frame.DataFrame'>\n",
      "Int64Index: 413778 entries, 0 to 413839\n",
      "Data columns (total 2 columns):\n",
      "Reviews    413778 non-null object\n",
      "Rating     413778 non-null int64\n",
      "dtypes: int64(1), object(1)\n",
      "memory usage: 9.5+ MB\n"
     ]
    }
   ],
   "source": [
    "#Data Preprocessing steps by elimination of the rows with missing values\n",
    "df=df.dropna()\n",
    "df.info()"
   ]
  },
  {
   "cell_type": "code",
   "execution_count": 67,
   "metadata": {},
   "outputs": [
    {
     "name": "stdout",
     "output_type": "stream",
     "text": [
      "<class 'pandas.core.frame.DataFrame'>\n",
      "Int64Index: 382015 entries, 0 to 413839\n",
      "Data columns (total 2 columns):\n",
      "Reviews    382015 non-null object\n",
      "Rating     382015 non-null int64\n",
      "dtypes: int64(1), object(1)\n",
      "memory usage: 8.7+ MB\n"
     ]
    }
   ],
   "source": [
    "#Elimination of rows with neutral sentiment since 3 is neither positive nor negative on a scale of 1 to 5.\n",
    "df=df[df['Rating']!=3]\n",
    "df.info()"
   ]
  },
  {
   "cell_type": "code",
   "execution_count": 68,
   "metadata": {},
   "outputs": [
    {
     "data": {
      "text/html": [
       "<div>\n",
       "<style scoped>\n",
       "    .dataframe tbody tr th:only-of-type {\n",
       "        vertical-align: middle;\n",
       "    }\n",
       "\n",
       "    .dataframe tbody tr th {\n",
       "        vertical-align: top;\n",
       "    }\n",
       "\n",
       "    .dataframe thead th {\n",
       "        text-align: right;\n",
       "    }\n",
       "</style>\n",
       "<table border=\"1\" class=\"dataframe\">\n",
       "  <thead>\n",
       "    <tr style=\"text-align: right;\">\n",
       "      <th></th>\n",
       "      <th>Reviews</th>\n",
       "      <th>Rating</th>\n",
       "      <th>sentiment</th>\n",
       "    </tr>\n",
       "  </thead>\n",
       "  <tbody>\n",
       "    <tr>\n",
       "      <th>0</th>\n",
       "      <td>I feel so LUCKY to have found this used (phone...</td>\n",
       "      <td>5</td>\n",
       "      <td>1</td>\n",
       "    </tr>\n",
       "    <tr>\n",
       "      <th>1</th>\n",
       "      <td>nice phone, nice up grade from my pantach revu...</td>\n",
       "      <td>4</td>\n",
       "      <td>1</td>\n",
       "    </tr>\n",
       "    <tr>\n",
       "      <th>2</th>\n",
       "      <td>Very pleased</td>\n",
       "      <td>5</td>\n",
       "      <td>1</td>\n",
       "    </tr>\n",
       "    <tr>\n",
       "      <th>3</th>\n",
       "      <td>It works good but it goes slow sometimes but i...</td>\n",
       "      <td>4</td>\n",
       "      <td>1</td>\n",
       "    </tr>\n",
       "    <tr>\n",
       "      <th>4</th>\n",
       "      <td>Great phone to replace my lost phone. The only...</td>\n",
       "      <td>4</td>\n",
       "      <td>1</td>\n",
       "    </tr>\n",
       "  </tbody>\n",
       "</table>\n",
       "</div>"
      ],
      "text/plain": [
       "                                             Reviews  Rating  sentiment\n",
       "0  I feel so LUCKY to have found this used (phone...       5          1\n",
       "1  nice phone, nice up grade from my pantach revu...       4          1\n",
       "2                                       Very pleased       5          1\n",
       "3  It works good but it goes slow sometimes but i...       4          1\n",
       "4  Great phone to replace my lost phone. The only...       4          1"
      ]
     },
     "execution_count": 68,
     "metadata": {},
     "output_type": "execute_result"
    }
   ],
   "source": [
    "# Assignning Positive Rating > 3 as 1 and Negative Rating which is less than 3 as 0\n",
    "df['sentiment']=np.where(df['Rating'] > 3, 1, 0)\n",
    "df.head()"
   ]
  },
  {
   "cell_type": "code",
   "execution_count": 69,
   "metadata": {},
   "outputs": [
    {
     "data": {
      "text/html": [
       "<div>\n",
       "<style scoped>\n",
       "    .dataframe tbody tr th:only-of-type {\n",
       "        vertical-align: middle;\n",
       "    }\n",
       "\n",
       "    .dataframe tbody tr th {\n",
       "        vertical-align: top;\n",
       "    }\n",
       "\n",
       "    .dataframe thead th {\n",
       "        text-align: right;\n",
       "    }\n",
       "</style>\n",
       "<table border=\"1\" class=\"dataframe\">\n",
       "  <thead>\n",
       "    <tr style=\"text-align: right;\">\n",
       "      <th></th>\n",
       "      <th>Reviews</th>\n",
       "      <th>Rating</th>\n",
       "      <th>sentiment</th>\n",
       "    </tr>\n",
       "  </thead>\n",
       "  <tbody>\n",
       "    <tr>\n",
       "      <th>413832</th>\n",
       "      <td>good rugged phone that has a long-lasting batt...</td>\n",
       "      <td>4</td>\n",
       "      <td>1</td>\n",
       "    </tr>\n",
       "    <tr>\n",
       "      <th>413834</th>\n",
       "      <td>used hard</td>\n",
       "      <td>1</td>\n",
       "      <td>0</td>\n",
       "    </tr>\n",
       "    <tr>\n",
       "      <th>413835</th>\n",
       "      <td>another great deal great price</td>\n",
       "      <td>5</td>\n",
       "      <td>1</td>\n",
       "    </tr>\n",
       "    <tr>\n",
       "      <th>413837</th>\n",
       "      <td>Passes every drop test onto porcelain tile!</td>\n",
       "      <td>5</td>\n",
       "      <td>1</td>\n",
       "    </tr>\n",
       "    <tr>\n",
       "      <th>413839</th>\n",
       "      <td>Only downside is that apparently Verizon no lo...</td>\n",
       "      <td>4</td>\n",
       "      <td>1</td>\n",
       "    </tr>\n",
       "  </tbody>\n",
       "</table>\n",
       "</div>"
      ],
      "text/plain": [
       "                                                  Reviews  Rating  sentiment\n",
       "413832  good rugged phone that has a long-lasting batt...       4          1\n",
       "413834                                          used hard       1          0\n",
       "413835                     another great deal great price       5          1\n",
       "413837        Passes every drop test onto porcelain tile!       5          1\n",
       "413839  Only downside is that apparently Verizon no lo...       4          1"
      ]
     },
     "execution_count": 69,
     "metadata": {},
     "output_type": "execute_result"
    }
   ],
   "source": [
    "df.tail()"
   ]
  },
  {
   "cell_type": "code",
   "execution_count": 70,
   "metadata": {},
   "outputs": [],
   "source": [
    "Cstopwords=set(stopwords.words('english')+list(punctuation))\n",
    "from nltk.stem import WordNetLemmatizer\n",
    "lemma=WordNetLemmatizer()\n",
    "def clean_review(review_column):\n",
    "    review_corpus=[]    \n",
    "    review=review_column\n",
    "    #review=BeautifulSoup(review,'lxml').text\n",
    "    review=re.sub('[^a-zA-Z]',' ',review)\n",
    "    review=str(review).lower()\n",
    "    review=word_tokenize(review)\n",
    "    #review=[stemmer.stem(w) for w in review if w not in Cstopwords]\n",
    "    review=[lemma.lemmatize(w) for w in review ]\n",
    "    review=' '.join(review)\n",
    "    review_corpus.append(review)\n",
    "    return review"
   ]
  },
  {
   "cell_type": "code",
   "execution_count": 71,
   "metadata": {},
   "outputs": [],
   "source": [
    "review_column=df['Reviews']\n",
    "# print(review_column)\n",
    "review_corpus=review_column.apply(clean_review)"
   ]
  },
  {
   "cell_type": "code",
   "execution_count": 72,
   "metadata": {},
   "outputs": [
    {
     "data": {
      "text/plain": [
       "0         I feel so LUCKY to have found this used (phone...\n",
       "1         nice phone, nice up grade from my pantach revu...\n",
       "2                                              Very pleased\n",
       "3         It works good but it goes slow sometimes but i...\n",
       "4         Great phone to replace my lost phone. The only...\n",
       "5         I already had a phone with problems... I know ...\n",
       "6         The charging port was loose. I got that solder...\n",
       "7         Phone looks good but wouldn't stay charged, ha...\n",
       "8         I originally was using the Samsung S2 Galaxy f...\n",
       "11        This is a great product it came after two days...\n",
       "12        These guys are the best! I had a little situat...\n",
       "13        I'm really disappointed about my phone and ser...\n",
       "14        Ordered this phone as a replacement for the sa...\n",
       "15        Had this phone before and loved it but was not...\n",
       "16        I was able to get the phone I previously owned...\n",
       "17        I brought this phone as a replacement for my d...\n",
       "18        I love the phone. It does everything I need an...\n",
       "20        The battery was old & had been over used becau...\n",
       "21        pros-beautiful screen,capable of running chrom...\n",
       "22        I purchased this phone in December as a christ...\n",
       "23        Phone good just a little slow phone old but it...\n",
       "24        Phone's speaker little low. Overall very happy...\n",
       "25        the phone was great and in good condition. My ...\n",
       "27                    Phone works great. No problems at all\n",
       "28             was not in good condition but does work good\n",
       "29        Just... not good. The phone has great screen r...\n",
       "30                                 as described, fast ship!\n",
       "31                                    Perfect in every way.\n",
       "32        One of the phones have a bad charger port. I w...\n",
       "33        Just got this phone and it is a great phone. I...\n",
       "                                ...                        \n",
       "413805    first phone did not work i called them and the...\n",
       "413806    Great phone for the person who needs to make c...\n",
       "413807    I purchased this phone on 6/13/2013. Upon rece...\n",
       "413808    The phone was decent and came as expected. How...\n",
       "413809    I like this phone for the larger buttons for t...\n",
       "413810    I purchased the Samsung Convoy U640 for my eld...\n",
       "413811    My husband wanted rugged pho?ne for work. He i...\n",
       "413812    I never bought from Amazon before , but I real...\n",
       "413813    Iv'e never quite got used to the iphone and dr...\n",
       "413814    This is by far the best flip phone out there. ...\n",
       "413815    This phone is simple, very good , and it works...\n",
       "413816    Good sturdy phone for a pre-teen to have avail...\n",
       "413817    This is the second junk Convoy I have owned. T...\n",
       "413819    I BOUGHT THIS PHONE FOR MY HUSBAND AND HE LOVE...\n",
       "413820    They said phone was normal wear but it was a l...\n",
       "413821    You could shoot this out of a potato gun, and ...\n",
       "413822    Bought this for my mother and she loves it. Gr...\n",
       "413823    Excellent phone, as advertised. Love the push-...\n",
       "413824    works great and picks up signal in place my ot...\n",
       "413825    Great phone. Large keys, best flip phone I hav...\n",
       "413826    Pros...Works great, very durable, easy to navi...\n",
       "413827              just as described perfect for the price\n",
       "413828                                       Would not work\n",
       "413830                                              LOVE IT\n",
       "413831    Item was listed as new, but was not. When we t...\n",
       "413832    good rugged phone that has a long-lasting batt...\n",
       "413834                                            used hard\n",
       "413835                       another great deal great price\n",
       "413837          Passes every drop test onto porcelain tile!\n",
       "413839    Only downside is that apparently Verizon no lo...\n",
       "Name: Reviews, Length: 382015, dtype: object"
      ]
     },
     "execution_count": 72,
     "metadata": {},
     "output_type": "execute_result"
    }
   ],
   "source": [
    "review_column"
   ]
  },
  {
   "cell_type": "code",
   "execution_count": 73,
   "metadata": {},
   "outputs": [],
   "source": [
    "df['clean_reviews'] = review_corpus"
   ]
  },
  {
   "cell_type": "code",
   "execution_count": 74,
   "metadata": {},
   "outputs": [
    {
     "data": {
      "text/plain": [
       "0     i feel so lucky to have found this used phone ...\n",
       "1     nice phone nice up grade from my pantach revue...\n",
       "2                                          very pleased\n",
       "3     it work good but it go slow sometimes but it a...\n",
       "4     great phone to replace my lost phone the only ...\n",
       "5     i already had a phone with problem i know it s...\n",
       "6     the charging port wa loose i got that soldered...\n",
       "7     phone look good but wouldn t stay charged had ...\n",
       "8     i originally wa using the samsung s galaxy for...\n",
       "11    this is a great product it came after two day ...\n",
       "Name: clean_reviews, dtype: object"
      ]
     },
     "execution_count": 74,
     "metadata": {},
     "output_type": "execute_result"
    }
   ],
   "source": [
    "df['clean_reviews'].head(10)"
   ]
  },
  {
   "cell_type": "code",
   "execution_count": 75,
   "metadata": {},
   "outputs": [
    {
     "data": {
      "text/html": [
       "<div>\n",
       "<style scoped>\n",
       "    .dataframe tbody tr th:only-of-type {\n",
       "        vertical-align: middle;\n",
       "    }\n",
       "\n",
       "    .dataframe tbody tr th {\n",
       "        vertical-align: top;\n",
       "    }\n",
       "\n",
       "    .dataframe thead th {\n",
       "        text-align: right;\n",
       "    }\n",
       "</style>\n",
       "<table border=\"1\" class=\"dataframe\">\n",
       "  <thead>\n",
       "    <tr style=\"text-align: right;\">\n",
       "      <th></th>\n",
       "      <th>Reviews</th>\n",
       "      <th>Rating</th>\n",
       "      <th>sentiment</th>\n",
       "      <th>clean_reviews</th>\n",
       "    </tr>\n",
       "  </thead>\n",
       "  <tbody>\n",
       "    <tr>\n",
       "      <th>413815</th>\n",
       "      <td>This phone is simple, very good , and it works...</td>\n",
       "      <td>5</td>\n",
       "      <td>1</td>\n",
       "      <td>this phone is simple very good and it work exc...</td>\n",
       "    </tr>\n",
       "    <tr>\n",
       "      <th>413816</th>\n",
       "      <td>Good sturdy phone for a pre-teen to have avail...</td>\n",
       "      <td>4</td>\n",
       "      <td>1</td>\n",
       "      <td>good sturdy phone for a pre teen to have avail...</td>\n",
       "    </tr>\n",
       "    <tr>\n",
       "      <th>413817</th>\n",
       "      <td>This is the second junk Convoy I have owned. T...</td>\n",
       "      <td>1</td>\n",
       "      <td>0</td>\n",
       "      <td>this is the second junk convoy i have owned th...</td>\n",
       "    </tr>\n",
       "    <tr>\n",
       "      <th>413819</th>\n",
       "      <td>I BOUGHT THIS PHONE FOR MY HUSBAND AND HE LOVE...</td>\n",
       "      <td>5</td>\n",
       "      <td>1</td>\n",
       "      <td>i bought this phone for my husband and he love...</td>\n",
       "    </tr>\n",
       "    <tr>\n",
       "      <th>413820</th>\n",
       "      <td>They said phone was normal wear but it was a l...</td>\n",
       "      <td>1</td>\n",
       "      <td>0</td>\n",
       "      <td>they said phone wa normal wear but it wa a lie...</td>\n",
       "    </tr>\n",
       "    <tr>\n",
       "      <th>413821</th>\n",
       "      <td>You could shoot this out of a potato gun, and ...</td>\n",
       "      <td>5</td>\n",
       "      <td>1</td>\n",
       "      <td>you could shoot this out of a potato gun and p...</td>\n",
       "    </tr>\n",
       "    <tr>\n",
       "      <th>413822</th>\n",
       "      <td>Bought this for my mother and she loves it. Gr...</td>\n",
       "      <td>5</td>\n",
       "      <td>1</td>\n",
       "      <td>bought this for my mother and she love it grea...</td>\n",
       "    </tr>\n",
       "    <tr>\n",
       "      <th>413823</th>\n",
       "      <td>Excellent phone, as advertised. Love the push-...</td>\n",
       "      <td>5</td>\n",
       "      <td>1</td>\n",
       "      <td>excellent phone a advertised love the push to ...</td>\n",
       "    </tr>\n",
       "    <tr>\n",
       "      <th>413824</th>\n",
       "      <td>works great and picks up signal in place my ot...</td>\n",
       "      <td>4</td>\n",
       "      <td>1</td>\n",
       "      <td>work great and pick up signal in place my othe...</td>\n",
       "    </tr>\n",
       "    <tr>\n",
       "      <th>413825</th>\n",
       "      <td>Great phone. Large keys, best flip phone I hav...</td>\n",
       "      <td>5</td>\n",
       "      <td>1</td>\n",
       "      <td>great phone large key best flip phone i have o...</td>\n",
       "    </tr>\n",
       "    <tr>\n",
       "      <th>413826</th>\n",
       "      <td>Pros...Works great, very durable, easy to navi...</td>\n",
       "      <td>5</td>\n",
       "      <td>1</td>\n",
       "      <td>pro work great very durable easy to navigate s...</td>\n",
       "    </tr>\n",
       "    <tr>\n",
       "      <th>413827</th>\n",
       "      <td>just as described perfect for the price</td>\n",
       "      <td>5</td>\n",
       "      <td>1</td>\n",
       "      <td>just a described perfect for the price</td>\n",
       "    </tr>\n",
       "    <tr>\n",
       "      <th>413828</th>\n",
       "      <td>Would not work</td>\n",
       "      <td>1</td>\n",
       "      <td>0</td>\n",
       "      <td>would not work</td>\n",
       "    </tr>\n",
       "    <tr>\n",
       "      <th>413830</th>\n",
       "      <td>LOVE IT</td>\n",
       "      <td>5</td>\n",
       "      <td>1</td>\n",
       "      <td>love it</td>\n",
       "    </tr>\n",
       "    <tr>\n",
       "      <th>413831</th>\n",
       "      <td>Item was listed as new, but was not. When we t...</td>\n",
       "      <td>1</td>\n",
       "      <td>0</td>\n",
       "      <td>item wa listed a new but wa not when we tried ...</td>\n",
       "    </tr>\n",
       "    <tr>\n",
       "      <th>413832</th>\n",
       "      <td>good rugged phone that has a long-lasting batt...</td>\n",
       "      <td>4</td>\n",
       "      <td>1</td>\n",
       "      <td>good rugged phone that ha a long lasting batte...</td>\n",
       "    </tr>\n",
       "    <tr>\n",
       "      <th>413834</th>\n",
       "      <td>used hard</td>\n",
       "      <td>1</td>\n",
       "      <td>0</td>\n",
       "      <td>used hard</td>\n",
       "    </tr>\n",
       "    <tr>\n",
       "      <th>413835</th>\n",
       "      <td>another great deal great price</td>\n",
       "      <td>5</td>\n",
       "      <td>1</td>\n",
       "      <td>another great deal great price</td>\n",
       "    </tr>\n",
       "    <tr>\n",
       "      <th>413837</th>\n",
       "      <td>Passes every drop test onto porcelain tile!</td>\n",
       "      <td>5</td>\n",
       "      <td>1</td>\n",
       "      <td>pass every drop test onto porcelain tile</td>\n",
       "    </tr>\n",
       "    <tr>\n",
       "      <th>413839</th>\n",
       "      <td>Only downside is that apparently Verizon no lo...</td>\n",
       "      <td>4</td>\n",
       "      <td>1</td>\n",
       "      <td>only downside is that apparently verizon no lo...</td>\n",
       "    </tr>\n",
       "  </tbody>\n",
       "</table>\n",
       "</div>"
      ],
      "text/plain": [
       "                                                  Reviews  Rating  sentiment  \\\n",
       "413815  This phone is simple, very good , and it works...       5          1   \n",
       "413816  Good sturdy phone for a pre-teen to have avail...       4          1   \n",
       "413817  This is the second junk Convoy I have owned. T...       1          0   \n",
       "413819  I BOUGHT THIS PHONE FOR MY HUSBAND AND HE LOVE...       5          1   \n",
       "413820  They said phone was normal wear but it was a l...       1          0   \n",
       "413821  You could shoot this out of a potato gun, and ...       5          1   \n",
       "413822  Bought this for my mother and she loves it. Gr...       5          1   \n",
       "413823  Excellent phone, as advertised. Love the push-...       5          1   \n",
       "413824  works great and picks up signal in place my ot...       4          1   \n",
       "413825  Great phone. Large keys, best flip phone I hav...       5          1   \n",
       "413826  Pros...Works great, very durable, easy to navi...       5          1   \n",
       "413827            just as described perfect for the price       5          1   \n",
       "413828                                     Would not work       1          0   \n",
       "413830                                            LOVE IT       5          1   \n",
       "413831  Item was listed as new, but was not. When we t...       1          0   \n",
       "413832  good rugged phone that has a long-lasting batt...       4          1   \n",
       "413834                                          used hard       1          0   \n",
       "413835                     another great deal great price       5          1   \n",
       "413837        Passes every drop test onto porcelain tile!       5          1   \n",
       "413839  Only downside is that apparently Verizon no lo...       4          1   \n",
       "\n",
       "                                            clean_reviews  \n",
       "413815  this phone is simple very good and it work exc...  \n",
       "413816  good sturdy phone for a pre teen to have avail...  \n",
       "413817  this is the second junk convoy i have owned th...  \n",
       "413819  i bought this phone for my husband and he love...  \n",
       "413820  they said phone wa normal wear but it wa a lie...  \n",
       "413821  you could shoot this out of a potato gun and p...  \n",
       "413822  bought this for my mother and she love it grea...  \n",
       "413823  excellent phone a advertised love the push to ...  \n",
       "413824  work great and pick up signal in place my othe...  \n",
       "413825  great phone large key best flip phone i have o...  \n",
       "413826  pro work great very durable easy to navigate s...  \n",
       "413827             just a described perfect for the price  \n",
       "413828                                     would not work  \n",
       "413830                                            love it  \n",
       "413831  item wa listed a new but wa not when we tried ...  \n",
       "413832  good rugged phone that ha a long lasting batte...  \n",
       "413834                                          used hard  \n",
       "413835                     another great deal great price  \n",
       "413837           pass every drop test onto porcelain tile  \n",
       "413839  only downside is that apparently verizon no lo...  "
      ]
     },
     "execution_count": 75,
     "metadata": {},
     "output_type": "execute_result"
    }
   ],
   "source": [
    "df['clean_reviews']=review_corpus\n",
    "df.tail(20)"
   ]
  },
  {
   "cell_type": "code",
   "execution_count": 76,
   "metadata": {},
   "outputs": [],
   "source": [
    "from sklearn.feature_extraction.text import CountVectorizer"
   ]
  },
  {
   "cell_type": "code",
   "execution_count": 77,
   "metadata": {},
   "outputs": [],
   "source": [
    "cv=CountVectorizer(max_features=20000,min_df=5,ngram_range=(1,2))"
   ]
  },
  {
   "cell_type": "code",
   "execution_count": 78,
   "metadata": {},
   "outputs": [
    {
     "data": {
      "text/plain": [
       "(382015, 20000)"
      ]
     },
     "execution_count": 78,
     "metadata": {},
     "output_type": "execute_result"
    }
   ],
   "source": [
    "X1=cv.fit_transform(df['clean_reviews'])\n",
    "X1.shape"
   ]
  },
  {
   "cell_type": "code",
   "execution_count": 79,
   "metadata": {},
   "outputs": [],
   "source": [
    "from sklearn.feature_extraction.text import TfidfVectorizer"
   ]
  },
  {
   "cell_type": "code",
   "execution_count": 80,
   "metadata": {},
   "outputs": [],
   "source": [
    "tfidf=TfidfVectorizer(min_df=5, max_df=0.95, max_features = 20000, ngram_range = ( 1, 2 ),\n",
    "                              sublinear_tf = True)"
   ]
  },
  {
   "cell_type": "code",
   "execution_count": 81,
   "metadata": {},
   "outputs": [],
   "source": [
    "tfidf=tfidf.fit(df['clean_reviews'])"
   ]
  },
  {
   "cell_type": "code",
   "execution_count": 82,
   "metadata": {},
   "outputs": [
    {
     "data": {
      "text/plain": [
       "(382015, 20000)"
      ]
     },
     "execution_count": 82,
     "metadata": {},
     "output_type": "execute_result"
    }
   ],
   "source": [
    "X2=tfidf.transform(df['clean_reviews'])\n",
    "X2.shape"
   ]
  },
  {
   "cell_type": "code",
   "execution_count": 83,
   "metadata": {},
   "outputs": [
    {
     "data": {
      "text/plain": [
       "(382015,)"
      ]
     },
     "execution_count": 83,
     "metadata": {},
     "output_type": "execute_result"
    }
   ],
   "source": [
    "y=df['sentiment'].values\n",
    "y.shape"
   ]
  },
  {
   "cell_type": "code",
   "execution_count": 85,
   "metadata": {},
   "outputs": [
    {
     "name": "stdout",
     "output_type": "stream",
     "text": [
      "(305612, 20000) (305612,)\n",
      "(76403, 20000) (76403,)\n"
     ]
    }
   ],
   "source": [
    "X = X2\n",
    "# train test split\n",
    "from sklearn.model_selection import train_test_split\n",
    "X_train, X_test, y_train, y_test = train_test_split(X, y, test_size=0.2, random_state=0)\n",
    "print(X_train.shape, y_train.shape)\n",
    "print(X_test.shape, y_test.shape)"
   ]
  },
  {
   "cell_type": "code",
   "execution_count": 86,
   "metadata": {},
   "outputs": [
    {
     "name": "stdout",
     "output_type": "stream",
     "text": [
      "Mean positive review in train : 0.746\n",
      "mean positive review in test : 0.745\n"
     ]
    }
   ],
   "source": [
    "print('Mean positive review in train : {0:.3f}'.format(np.mean(y_train)))\n",
    "print('mean positive review in test : {0:.3f}'.format(np.mean(y_test)))"
   ]
  },
  {
   "cell_type": "code",
   "execution_count": 87,
   "metadata": {},
   "outputs": [
    {
     "name": "stderr",
     "output_type": "stream",
     "text": [
      "C:\\Users\\harsh\\AppData\\Local\\Continuum\\anaconda3\\lib\\site-packages\\sklearn\\linear_model\\logistic.py:433: FutureWarning: Default solver will be changed to 'lbfgs' in 0.22. Specify a solver to silence this warning.\n",
      "  FutureWarning)\n"
     ]
    },
    {
     "name": "stdout",
     "output_type": "stream",
     "text": [
      "Accuracy for Logistic Regression : 0.9623444105597948\n",
      "Confusion matrix for Logistic Regression:\n",
      " [[17833  1632]\n",
      " [ 1245 55693]]\n",
      "F1 score for Logistic Regression : 0.9748212457225874\n",
      "Precision score for Logistic Regression : 0.9715307457479285\n",
      "recall score for Logistic Regression : 0.978134110787172\n",
      "AUC:  0.9471456580136735\n"
     ]
    }
   ],
   "source": [
    "#Implementing Logistic Based Regression model\n",
    "from sklearn.metrics import accuracy_score\n",
    "from sklearn.metrics import confusion_matrix\n",
    "from sklearn.metrics import roc_auc_score\n",
    "from sklearn.metrics import f1_score\n",
    "from sklearn.metrics import precision_score\n",
    "from sklearn.metrics import recall_score\n",
    "from sklearn.linear_model import LogisticRegression as lr\n",
    "model_lr=lr(random_state=0)\n",
    "model_lr.fit(X_train,y_train)\n",
    "y_pred_lr=model_lr.predict(X_test)\n",
    "print('Accuracy for Logistic Regression :',accuracy_score(y_test,y_pred_lr))\n",
    "print('Confusion matrix for Logistic Regression:\\n',confusion_matrix(y_test,y_pred_lr))\n",
    "print('F1 score for Logistic Regression :',f1_score(y_test,y_pred_lr))\n",
    "print('Precision score for Logistic Regression :',precision_score(y_test,y_pred_lr))\n",
    "print('recall score for Logistic Regression :',recall_score(y_test,y_pred_lr))\n",
    "print('AUC: ', roc_auc_score(y_test, y_pred_lr))"
   ]
  },
  {
   "cell_type": "code",
   "execution_count": 88,
   "metadata": {},
   "outputs": [
    {
     "name": "stdout",
     "output_type": "stream",
     "text": [
      "Smallest Coefs:\n",
      "['not' 'worst' 'disappointed' 'not happy' 'poor' 'terrible' 'doesn'\n",
      " 'horrible' 'useless' 'return']\n",
      "\n",
      "Largest Coefs: \n",
      "['great' 'love' 'excellent' 'perfect' 'no problem' 'amazing' 'awesome'\n",
      " 'best' 'love this' 'not bad']\n"
     ]
    }
   ],
   "source": [
    "feature_names = np.array(cv.get_feature_names())\n",
    "\n",
    "# Sort the coefficients from the model\n",
    "sorted_coef_index = model_lr.coef_[0].argsort()\n",
    "\n",
    "# Find the 10 smallest and 10 largest coefficients\n",
    "# The 10 largest coefficients are being indexed using [:-11:-1] \n",
    "# so the list returned is in order of largest to smallest\n",
    "print('Smallest Coefs:\\n{}\\n'.format(feature_names[sorted_coef_index[:10]]))\n",
    "print('Largest Coefs: \\n{}'.format(feature_names[sorted_coef_index[:-11:-1]]))"
   ]
  },
  {
   "cell_type": "code",
   "execution_count": 90,
   "metadata": {},
   "outputs": [
    {
     "name": "stdout",
     "output_type": "stream",
     "text": [
      "accuracy for Naive Bayes Classifier : 0.9368480295276364\n",
      "confusion matrix for Naive Bayes Classifier:\n",
      " [[16687  2778]\n",
      " [ 2047 54891]]\n",
      "F1 score for Logistic Regression : 0.9578996047361854\n",
      "Precision score for Logistic Regression : 0.9518285387296468\n",
      "recall score for Logistic Regression : 0.9640486142822017\n",
      "AUC:  0.9106654579245582\n"
     ]
    }
   ],
   "source": [
    "from sklearn.naive_bayes import MultinomialNB\n",
    "model_nb=MultinomialNB()\n",
    "model_nb.fit(X_train,y_train)\n",
    "y_pred_nb=model_nb.predict(X_test)\n",
    "y_te_nb= model_nb.predict(X_test[6]) \n",
    "print('accuracy for Naive Bayes Classifier :',accuracy_score(y_test,y_pred_nb))\n",
    "print('confusion matrix for Naive Bayes Classifier:\\n',confusion_matrix(y_test,y_pred_nb))\n",
    "print('F1 score for Logistic Regression :',f1_score(y_test,y_pred_nb))\n",
    "print('Precision score for Logistic Regression :',precision_score(y_test,y_pred_nb))\n",
    "print('recall score for Logistic Regression :',recall_score(y_test,y_pred_nb))\n",
    "print('AUC: ', roc_auc_score(y_test, y_pred_nb))"
   ]
  },
  {
   "cell_type": "code",
   "execution_count": 91,
   "metadata": {},
   "outputs": [
    {
     "name": "stdout",
     "output_type": "stream",
     "text": [
      "Smallest Coefs:\n",
      "['worst purchase' 'never recommend' 'total waste' 'nothing work' 'is scam'\n",
      " 'royalty' 'reported stolen' 'zero star' 'very dissapointed'\n",
      " 'started freezing']\n",
      "\n",
      "Largest Coefs: \n",
      "['good' 'great' 'phone' 'it' 'excellent' 'the' 'and' 'love' 'very' 'is']\n"
     ]
    }
   ],
   "source": [
    "# get the feature names as numpy array\n",
    "feature_names = np.array(cv.get_feature_names())\n",
    "\n",
    "# Sort the coefficients from the model\n",
    "sorted_coef_index = model_nb.coef_[0].argsort()\n",
    "\n",
    "# Find the 10 smallest and 10 largest coefficients\n",
    "# The 10 largest coefficients are being indexed using [:-11:-1] \n",
    "# so the list returned is in order of largest to smallest\n",
    "print('Smallest Coefs:\\n{}\\n'.format(feature_names[sorted_coef_index[:10]]))\n",
    "print('Largest Coefs: \\n{}'.format(feature_names[sorted_coef_index[:-11:-1]]))"
   ]
  },
  {
   "cell_type": "code",
   "execution_count": 92,
   "metadata": {},
   "outputs": [
    {
     "name": "stderr",
     "output_type": "stream",
     "text": [
      "C:\\Users\\harsh\\AppData\\Local\\Continuum\\anaconda3\\lib\\site-packages\\sklearn\\ensemble\\forest.py:246: FutureWarning: The default value of n_estimators will change from 10 in version 0.20 to 100 in 0.22.\n",
      "  \"10 in version 0.20 to 100 in 0.22.\", FutureWarning)\n"
     ]
    },
    {
     "name": "stdout",
     "output_type": "stream",
     "text": [
      "accuracy for Random Forest Classifier : 0.9700404434380849\n",
      "confusion matrix for Random Forest Classifier:\n",
      " [[18211  1254]\n",
      " [ 1035 55903]]\n",
      "F1 score for Logistic Regression : 0.979937771155616\n",
      "Precision score for Logistic Regression : 0.9780604300435642\n",
      "recall score for Logistic Regression : 0.9818223330640345\n",
      "AUC:  0.9586995045746579\n"
     ]
    }
   ],
   "source": [
    "from sklearn.ensemble import RandomForestClassifier\n",
    "model_rf=RandomForestClassifier()\n",
    "model_rf.fit(X_train,y_train)\n",
    "y_pred_rf=model_rf.predict(X_test)\n",
    "print('accuracy for Random Forest Classifier :',accuracy_score(y_test,y_pred_rf))\n",
    "print('confusion matrix for Random Forest Classifier:\\n',confusion_matrix(y_test,y_pred_rf))\n",
    "print('F1 score for Logistic Regression :',f1_score(y_test,y_pred_rf))\n",
    "print('Precision score for Logistic Regression :',precision_score(y_test,y_pred_rf))\n",
    "print('recall score for Logistic Regression :',recall_score(y_test,y_pred_rf))\n",
    "print('AUC: ', roc_auc_score(y_test, y_pred_rf))"
   ]
  },
  {
   "cell_type": "code",
   "execution_count": 93,
   "metadata": {},
   "outputs": [
    {
     "name": "stdout",
     "output_type": "stream",
     "text": [
      "Smallest Coefs:\n",
      "['netflix and' 'them my' 'iphone on' 'them or' 'them with' 'changing the'\n",
      " 'quality are' 'them you' 'io is' 'into your']\n",
      "\n",
      "Largest Coefs: \n",
      "['not' 'great' 'good' 'love' 'wa' 'not work' 'bad' 'off' 'stopped'\n",
      " 'the phone']\n"
     ]
    }
   ],
   "source": [
    "feature_names = np.array(cv.get_feature_names())\n",
    "\n",
    "# Sort the coefficients from the model\n",
    "sorted_coef_index = model_rf.feature_importances_.argsort()\n",
    "\n",
    "# Find the 10 smallest and 10 largest coefficients\n",
    "# The 10 largest coefficients are being indexed using [:-11:-1] \n",
    "# so the list returned is in order of largest to smallest\n",
    "print('Smallest Coefs:\\n{}\\n'.format(feature_names[sorted_coef_index[:10]]))\n",
    "print('Largest Coefs: \\n{}'.format(feature_names[sorted_coef_index[:-11:-1]]))"
   ]
  },
  {
   "cell_type": "code",
   "execution_count": 94,
   "metadata": {},
   "outputs": [],
   "source": [
    "from sklearn.svm import SVC"
   ]
  },
  {
   "cell_type": "code",
   "execution_count": 95,
   "metadata": {},
   "outputs": [
    {
     "data": {
      "text/plain": [
       "SVC(C=1.0, cache_size=200, class_weight=None, coef0=0.0,\n",
       "  decision_function_shape='ovr', degree=3, gamma='auto_deprecated',\n",
       "  kernel='linear', max_iter=-1, probability=False, random_state=None,\n",
       "  shrinking=True, tol=0.001, verbose=False)"
      ]
     },
     "execution_count": 95,
     "metadata": {},
     "output_type": "execute_result"
    }
   ],
   "source": [
    "svclassifier = SVC(kernel='linear')  \n",
    "svclassifier.fit(X_train[:1000], y_train[:1000])\n",
    " "
   ]
  },
  {
   "cell_type": "code",
   "execution_count": 96,
   "metadata": {},
   "outputs": [],
   "source": [
    "y_pred = svclassifier.predict(X_test) "
   ]
  },
  {
   "cell_type": "code",
   "execution_count": 97,
   "metadata": {},
   "outputs": [
    {
     "data": {
      "text/plain": [
       "0.8895723989895685"
      ]
     },
     "execution_count": 97,
     "metadata": {},
     "output_type": "execute_result"
    }
   ],
   "source": [
    "from sklearn.metrics import accuracy_score\n",
    "accuracy_score(y_test,y_pred)"
   ]
  },
  {
   "cell_type": "code",
   "execution_count": 98,
   "metadata": {},
   "outputs": [
    {
     "name": "stdout",
     "output_type": "stream",
     "text": [
      "  (0, 4189)\t0.19066610289090843\n",
      "  (0, 4200)\t0.35393425160445785\n",
      "  (0, 4929)\t0.19170088526723217\n",
      "  (0, 5422)\t0.2102865633526799\n",
      "  (0, 5438)\t0.3351511739599854\n",
      "  (0, 7631)\t0.3338910149125132\n",
      "  (0, 8192)\t0.13679239642052418\n",
      "  (0, 8279)\t0.277927441994642\n",
      "  (0, 8593)\t0.2103376632465459\n",
      "  (0, 12126)\t0.22779691714890357\n",
      "  (0, 12128)\t0.3523084498647587\n",
      "  (0, 19302)\t0.11447225624148474\n",
      "  (0, 19345)\t0.3483264313797539\n",
      "  (0, 19533)\t0.12897596868115876\n",
      "  (0, 19586)\t0.25752157191148206\n",
      "  (1, 652)\t0.051845029624850075\n",
      "  (1, 1890)\t0.09141568230578626\n",
      "  (1, 1904)\t0.2578335122225558\n",
      "  (1, 2223)\t0.1277044107717307\n",
      "  (1, 2232)\t0.24508087207423704\n",
      "  (1, 2548)\t0.1222028402577216\n",
      "  (1, 2577)\t0.18709532227304748\n",
      "  (1, 2927)\t0.08961284673442671\n",
      "  (1, 2938)\t0.15336435458710543\n",
      "  (1, 3113)\t0.12022515371308896\n",
      "  :\t:\n",
      "  (8, 17931)\t0.17031783572487863\n",
      "  (8, 18173)\t0.08147410269607652\n",
      "  (8, 18197)\t0.17473051320910135\n",
      "  (8, 18414)\t0.04798182696076989\n",
      "  (8, 18454)\t0.1484082471401378\n",
      "  (8, 18749)\t0.11305340946846716\n",
      "  (8, 18751)\t0.15085420736680524\n",
      "  (8, 18826)\t0.08372625779188077\n",
      "  (8, 19302)\t0.07792582928737254\n",
      "  (8, 19375)\t0.08613255699066084\n",
      "  (8, 19403)\t0.08900093522811997\n",
      "  (8, 19501)\t0.16603006198191386\n",
      "  (8, 19502)\t0.16811776253185892\n",
      "  (8, 19747)\t0.10484241217495228\n",
      "  (8, 19755)\t0.15807532565396545\n",
      "  (8, 19771)\t0.10500439642076351\n",
      "  (8, 19776)\t0.12958349983850004\n",
      "  (9, 203)\t0.2540896032485249\n",
      "  (9, 2463)\t0.3865792108371718\n",
      "  (9, 4631)\t0.3719623953276587\n",
      "  (9, 5349)\t0.308059401781256\n",
      "  (9, 5356)\t0.44349287557815525\n",
      "  (9, 9974)\t0.26972929015215397\n",
      "  (9, 9975)\t0.4827447563690581\n",
      "  (9, 18030)\t0.2241786079210387 [1 1 0 0 1 1 1 0 0 0]\n"
     ]
    }
   ],
   "source": [
    "print(X_train[0:10], y_train[:10])"
   ]
  },
  {
   "cell_type": "code",
   "execution_count": null,
   "metadata": {},
   "outputs": [],
   "source": [
    "\n"
   ]
  }
 ],
 "metadata": {
  "kernelspec": {
   "display_name": "Python 3",
   "language": "python",
   "name": "python3"
  },
  "language_info": {
   "codemirror_mode": {
    "name": "ipython",
    "version": 3
   },
   "file_extension": ".py",
   "mimetype": "text/x-python",
   "name": "python",
   "nbconvert_exporter": "python",
   "pygments_lexer": "ipython3",
   "version": "3.6.5"
  }
 },
 "nbformat": 4,
 "nbformat_minor": 2
}
